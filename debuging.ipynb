{
 "cells": [
  {
   "cell_type": "code",
   "execution_count": 3,
   "metadata": {},
   "outputs": [],
   "source": [
    "import time\n",
    "from selenium import webdriver\n",
    "from selenium.webdriver.common.by import By\n",
    "from selenium.webdriver.common.keys import Keys\n",
    "\n",
    "driver = webdriver.Chrome()  # Optional argument, if not specified will search path.\n",
    "driver.get('https://www.redbus.in/online-booking/tsrtc/?utm_source=rtchometile')\n",
    "time.sleep(2) "
   ]
  },
  {
   "cell_type": "code",
   "execution_count": 32,
   "metadata": {},
   "outputs": [],
   "source": [
    "import time\n",
    "from selenium import webdriver\n",
    "from selenium.webdriver.common.by import By\n",
    "from selenium.webdriver.common.keys import Keys\n",
    "\n",
    "driver = webdriver.Chrome()  # Optional argument, if not specified will search path.\n",
    "driver.get('https://www.redbus.in/online-booking/tsrtc/?utm_source=rtchometile')\n",
    "time.sleep(2)  # Let the page load\n",
    "\n",
    "body = driver.find_element(By.TAG_NAME, \"body\")\n",
    "telangana_buses_list=[]\n",
    "telangana_buses_links=[]\n",
    "\n",
    "for page_num in range(1, 4):  # Loop over pages (or scroll actions)\n",
    "    # Get all elements with class 'route'\n",
    "    result1 = driver.find_elements(By.CSS_SELECTOR, \"a[class='route']\")\n",
    "    \n",
    "    # Print the text of each element found\n",
    "    for element in result1:\n",
    "        telangana_buses_list.append(element.text)\n",
    "        telangana_buses_links.append(element.get_attribute('href'))\n",
    "    \n",
    "    # Scroll down the page\n",
    "    body.send_keys(Keys.PAGE_DOWN)\n",
    "    time.sleep(2)  # Give some time for new elements to load\n",
    "    \n",
    "    # Find an element matching the XPATH and click (if needed)\n",
    "    result = driver.find_elements(By.XPATH, f\"//div[contains(text(),'{page_num+1}')]\")\n",
    "    #print(result)\n",
    "    if result:\n",
    "        result[0].click()  # Click the first element found with matching XPATH\n",
    "\n",
    "#driver.quit()  # Close the browser after task completion\n"
   ]
  },
  {
   "cell_type": "code",
   "execution_count": 20,
   "metadata": {},
   "outputs": [
    {
     "name": "stdout",
     "output_type": "stream",
     "text": [
      "https://www.redbus.in/bus-tickets/khammam-to-hyderabad\n",
      "https://www.redbus.in/bus-tickets/hyderabad-to-vijayawada\n",
      "https://www.redbus.in/bus-tickets/hyderabad-to-khammam\n",
      "https://www.redbus.in/bus-tickets/hyderabad-to-srisailam\n",
      "https://www.redbus.in/bus-tickets/karimnagar-to-hyderabad\n",
      "https://www.redbus.in/bus-tickets/hyderabad-to-adilabad\n",
      "https://www.redbus.in/bus-tickets/kothagudem-to-hyderabad\n",
      "https://www.redbus.in/bus-tickets/hyderabad-to-mancherial\n",
      "https://www.redbus.in/bus-tickets/guntur-to-hyderabad\n",
      "https://www.redbus.in/bus-tickets/godavarikhani-to-hyderabad\n",
      "https://www.redbus.in/bus-tickets/kodad-to-hyderabad\n",
      "https://www.redbus.in/bus-tickets/hyderabad-to-ongole\n",
      "https://www.redbus.in/bus-tickets/jagityal-to-hyderabad\n",
      "https://www.redbus.in/bus-tickets/hyderabad-to-nirmal\n",
      "https://www.redbus.in/bus-tickets/hyderabad-to-guntur\n",
      "https://www.redbus.in/bus-tickets/hyderabad-to-karimnagar\n",
      "https://www.redbus.in/bus-tickets/hyderabad-to-kothagudem\n",
      "https://www.redbus.in/bus-tickets/hyderabad-to-bhadrachalam\n",
      "https://www.redbus.in/bus-tickets/hyderabad-to-sathupalli\n",
      "https://www.redbus.in/bus-tickets/hyderabad-to-warangal\n",
      "https://www.redbus.in/bus-tickets/hyderabad-to-tirupathi\n",
      "https://www.redbus.in/bus-tickets/hyderabad-to-ananthapur\n",
      "https://www.redbus.in/bus-tickets/hyderabad-to-armoor\n",
      "https://www.redbus.in/bus-tickets/hyderabad-to-godavarikhani\n",
      "https://www.redbus.in/bus-tickets/peddapalli-telangana-to-hyderabad\n",
      "https://www.redbus.in/bus-tickets/hyderabad-to-kodad\n"
     ]
    }
   ],
   "source": [
    "for i in telangana_buses_links:\n",
    "    print(i)"
   ]
  },
  {
   "cell_type": "code",
   "execution_count": null,
   "metadata": {},
   "outputs": [],
   "source": [
    "Hydera#3"
   ]
  }
 ],
 "metadata": {
  "kernelspec": {
   "display_name": "base",
   "language": "python",
   "name": "python3"
  },
  "language_info": {
   "codemirror_mode": {
    "name": "ipython",
    "version": 3
   },
   "file_extension": ".py",
   "mimetype": "text/x-python",
   "name": "python",
   "nbconvert_exporter": "python",
   "pygments_lexer": "ipython3",
   "version": "3.12.4"
  }
 },
 "nbformat": 4,
 "nbformat_minor": 2
}
